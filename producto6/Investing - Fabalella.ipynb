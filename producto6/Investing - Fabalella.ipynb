{
 "cells": [
  {
   "cell_type": "markdown",
   "id": "97003a46",
   "metadata": {},
   "source": [
    "# Librerias"
   ]
  },
  {
   "cell_type": "code",
   "execution_count": 1,
   "id": "8d2c9f7c",
   "metadata": {},
   "outputs": [],
   "source": [
    "from bs4 import BeautifulSoup\n",
    "from urllib.request import urlopen\n",
    "\n",
    "from lxml import etree\n",
    "import xml.etree.ElementTree as ETree\n",
    "\n",
    "import pandas as pd\n",
    "import time\n",
    "\n",
    "import datetime\n",
    "\n",
    "from selenium import webdriver\n",
    "\n",
    "from webdriver_manager.chrome          import ChromeDriverManager \n",
    "from selenium.webdriver.chrome.options import Options\n",
    "\n",
    "from selenium.webdriver.common.keys import Keys\n",
    "from selenium.webdriver.common.by   import By\n",
    "\n",
    "from selenium.webdriver.support.ui import WebDriverWait\n",
    "from selenium.webdriver.support    import expected_conditions as EC\n",
    "\n",
    "from selenium.common.exceptions import TimeoutException\n",
    "from selenium.webdriver         import ActionChains"
   ]
  },
  {
   "cell_type": "markdown",
   "id": "60d5a40d",
   "metadata": {},
   "source": [
    "# Parametros para Selenium"
   ]
  },
  {
   "cell_type": "code",
   "execution_count": 2,
   "id": "d23c655f",
   "metadata": {},
   "outputs": [],
   "source": [
    "# definir ruta_descarga a gusto\n",
    "ruta_descarga = r\"C:\\Users\\David Valenzuela\\Downloads\\Untitled Folder\\WebScraping Desa\\BolsaSantiago\" \n",
    "\n",
    "options = Options()\n",
    "options.add_experimental_option(\"prefs\", {\n",
    "  \"download.default_directory\": ruta_descarga, #Donde descargara\n",
    "  \"download.prompt_for_download\": False,\n",
    "  \"download.directory_upgrade\": True\n",
    "})\n",
    "\n",
    "#https://stackoverflow.com/questions/46937319/how-to-use-chrome-webdriver-in-selenium-to-download-files-in-python"
   ]
  },
  {
   "cell_type": "code",
   "execution_count": 3,
   "id": "3a315119",
   "metadata": {},
   "outputs": [
    {
     "name": "stderr",
     "output_type": "stream",
     "text": [
      "C:\\Users\\David Valenzuela\\AppData\\Local\\Temp\\ipykernel_59832\\874622609.py:2: DeprecationWarning: executable_path has been deprecated, please pass in a Service object\n",
      "  browser  = webdriver.Chrome(ChromeDriverManager().install(), chrome_options=options)\n",
      "C:\\Users\\David Valenzuela\\AppData\\Local\\Temp\\ipykernel_59832\\874622609.py:2: DeprecationWarning: use options instead of chrome_options\n",
      "  browser  = webdriver.Chrome(ChromeDriverManager().install(), chrome_options=options)\n"
     ]
    }
   ],
   "source": [
    "# Initiate the browser\n",
    "browser  = webdriver.Chrome(ChromeDriverManager().install(), chrome_options=options)"
   ]
  },
  {
   "cell_type": "markdown",
   "id": "3c9bc63d",
   "metadata": {},
   "source": [
    "# Navegacion y Descarga"
   ]
  },
  {
   "cell_type": "code",
   "execution_count": 4,
   "id": "91bf6f35",
   "metadata": {},
   "outputs": [],
   "source": [
    "# Open the Website\n",
    "browser.get('https://www.investing.com/equities/falabella')"
   ]
  },
  {
   "cell_type": "markdown",
   "id": "4e1c0a2e",
   "metadata": {},
   "source": [
    "# Matar el popup\n",
    "try:\n",
    "    WebDriverWait(browser, 60).until(EC.element_to_be_clickable((By.CSS_SELECTOR, \"i.popupCloseIcon.largeBannerCloser\"))).click()\n",
    "except TimeoutException as to:\n",
    "    print(to)"
   ]
  },
  {
   "cell_type": "markdown",
   "id": "c1ffaceb",
   "metadata": {},
   "source": [
    "# Navegacion"
   ]
  },
  {
   "cell_type": "code",
   "execution_count": 5,
   "id": "d8c55621",
   "metadata": {},
   "outputs": [],
   "source": [
    "# Baja una Pantalla\n",
    "browser.find_element(By.CSS_SELECTOR, 'body').send_keys(Keys.PAGE_DOWN)\n",
    "time.sleep(5)"
   ]
  },
  {
   "cell_type": "code",
   "execution_count": 6,
   "id": "aaa4f93c",
   "metadata": {},
   "outputs": [],
   "source": [
    "# Ingresa a Data Historica\n",
    "browser.find_element(By.XPATH, '/html/body/div/div[2]/div/div/div[2]/main/div/div[7]/nav/ul/li[3]/a').click()\n",
    "#browser.find_element(By.XPATH, '/html/body/div/div[1]/header/div[3]/div/div/div/div/form/div[1]/button').click()"
   ]
  },
  {
   "cell_type": "code",
   "execution_count": 7,
   "id": "82a7e65a",
   "metadata": {},
   "outputs": [],
   "source": [
    "# Baja una Pantalla\n",
    "browser.find_element(By.CSS_SELECTOR, 'body').send_keys(Keys.PAGE_DOWN)\n",
    "time.sleep(5)"
   ]
  },
  {
   "cell_type": "code",
   "execution_count": 8,
   "id": "45fcd4bf",
   "metadata": {},
   "outputs": [],
   "source": [
    "# Matar el otro popup\n",
    "browser.find_element(By.XPATH, '/html/body/div/div[1]/header/div[3]/div/div/div/div/form/div[1]/button').click()"
   ]
  },
  {
   "cell_type": "code",
   "execution_count": 9,
   "id": "710db02a",
   "metadata": {},
   "outputs": [],
   "source": [
    "# Click en el buscador de fechas\n",
    "browser.find_element(By.XPATH, '/html/body/div/div[2]/div/div/div[2]/main/div/div[8]/div/div/div[2]/div[2]/div[2]/div/div[2]').click()"
   ]
  },
  {
   "cell_type": "code",
   "execution_count": 10,
   "id": "c57f41a7",
   "metadata": {},
   "outputs": [],
   "source": [
    "# Pasos para forzar 01-01-2022\n",
    "# Si se quiere buscar Febrero 2022 -> 01/02/2022\n",
    "browser.find_element(By.XPATH, '/html/body/div/div[2]/div/div/div[2]/main/div/div[8]/div/div/div[2]/div[2]/div[2]/div[2]/div[1]/div/div[1]/input').click()\n",
    "browser.find_element(By.XPATH, '/html/body/div/div[2]/div/div/div[2]/main/div/div[8]/div/div/div[2]/div[2]/div[2]/div[2]/div[1]/div/div[1]/input').clear()\n",
    "browser.find_element(By.XPATH, '/html/body/div/div[2]/div/div/div[2]/main/div/div[8]/div/div/div[2]/div[2]/div[2]/div[2]/div[1]/div/div[1]/input').send_keys('01/01/2022')\n",
    "browser.find_element(By.XPATH, '/html/body/div/div[2]/div/div/div[2]/main/div/div[8]/div/div/div[2]/div[2]/div[2]/div[2]/div[1]/div/div[1]/input').clear()\n",
    "browser.find_element(By.XPATH, '/html/body/div/div[2]/div/div/div[2]/main/div/div[8]/div/div/div[2]/div[2]/div[2]/div[2]/div[1]/div/div[1]/input').send_keys('01/01/2022')\n",
    "browser.find_element(By.XPATH, '/html/body/div/div[2]/div/div/div[2]/main/div/div[8]/div/div/div[2]/div[2]/div[2]/div[2]/div[1]/div/div[1]/input').click()\n",
    "browser.find_element(By.XPATH, '/html/body/div/div[2]/div/div/div[2]/main/div/div[8]/div/div/div[2]/div[2]/div[2]/div[2]/div[2]/button').click()"
   ]
  },
  {
   "cell_type": "markdown",
   "id": "b60b890e",
   "metadata": {},
   "source": [
    "# Scrapear Tabla\n",
    "\n",
    "Con el Navegador ya abierto e interactuado"
   ]
  },
  {
   "cell_type": "code",
   "execution_count": 11,
   "id": "db71cf9b",
   "metadata": {},
   "outputs": [],
   "source": [
    "time.sleep(15)\n",
    "#browser.find_element(By.CSS_SELECTOR, 'body').send_keys(Keys.PAGE_DOWN)\n",
    "#browser.find_element(By.CSS_SELECTOR, 'body').send_keys(Keys.PAGE_DOWN)\n",
    "#browser.find_element(By.CSS_SELECTOR, 'body').send_keys(Keys.PAGE_DOWN)\n",
    "#browser.find_element(By.CSS_SELECTOR, 'body').send_keys(Keys.PAGE_DOWN)\n",
    "#browser.find_element(By.XPATH, '/html/body/div/div[2]/div/div/div[2]/main/div/div[8]/div/div/div[3]/div/table/tbody').click()"
   ]
  },
  {
   "cell_type": "code",
   "execution_count": 12,
   "id": "760a7784",
   "metadata": {},
   "outputs": [],
   "source": [
    "source = browser.page_source"
   ]
  },
  {
   "cell_type": "code",
   "execution_count": 13,
   "id": "5ad6e968",
   "metadata": {},
   "outputs": [],
   "source": [
    "content_page = BeautifulSoup(source, \"html.parser\")"
   ]
  },
  {
   "cell_type": "code",
   "execution_count": 14,
   "id": "58d71e3a",
   "metadata": {},
   "outputs": [],
   "source": [
    "# dom = etree.HTML(str(content_page))"
   ]
  },
  {
   "cell_type": "code",
   "execution_count": 15,
   "id": "cd416a09",
   "metadata": {},
   "outputs": [],
   "source": [
    "# la ruta es: //*[@id=\"__next\"]/div[2]/div/div/div[2]/main/div/div[8]/div/div/div[3]/div/table/tbody\n",
    "# El //text() es para que me regrese todos los textos\n",
    "# datos = dom.xpath('//*[@id=\"__next\"]/div[2]/div/div/div[2]/main/div/div[8]/div/div/div[3]/div/table/tbody//text()')"
   ]
  },
  {
   "cell_type": "code",
   "execution_count": 16,
   "id": "dcb2de74",
   "metadata": {},
   "outputs": [],
   "source": [
    "# Extraemos la tabla y la guardamos en una lista\n",
    "contador = 0\n",
    "\n",
    "valores = content_page.find_all('tbody', {'class':'datatable_body__3EPFZ'})\n",
    "\n",
    "for valor in valores[1]: #Es la segunda la que nos interesa\n",
    "    for val in valor:\n",
    "        \n",
    "        contador = contador + 1\n",
    "    \n",
    "        if contador == 1:\n",
    "            Raw_Data = pd.DataFrame({'valor':val.get_text()}, index=[contador-1])\n",
    "        else:\n",
    "            Raw_Data = pd.concat([Raw_Data, pd.DataFrame({'valor':val.get_text()}, index=[contador-1]) ])\n",
    "        \n",
    "        #print(val.get_text())"
   ]
  },
  {
   "cell_type": "code",
   "execution_count": 17,
   "id": "73a8bc54",
   "metadata": {},
   "outputs": [],
   "source": [
    "# Separamos la lista anterior en un dataframe trabajable\n",
    "i = 0\n",
    "j = 0\n",
    "\n",
    "iteraciones = int(len(Raw_Data)/7)\n",
    "\n",
    "\n",
    "cols = ['Date', 'Price', 'Open', 'High', 'Low', 'Vol', 'ChangePercent']\n",
    "datos_df = pd.DataFrame(columns=cols, index=range(iteraciones))\n",
    "\n",
    "while iteraciones > j:\n",
    "\n",
    "    datos_df.loc[j].Date          = Raw_Data.valor.loc[i + 0]\n",
    "    datos_df.loc[j].Price         = Raw_Data.valor.loc[i + 1]\n",
    "    datos_df.loc[j].Open          = Raw_Data.valor.loc[i + 2]\n",
    "    datos_df.loc[j].High          = Raw_Data.valor.loc[i + 3]\n",
    "    datos_df.loc[j].Low           = Raw_Data.valor.loc[i + 4]\n",
    "    datos_df.loc[j].Vol           = Raw_Data.valor.loc[i + 5]\n",
    "    datos_df.loc[j].ChangePercent = Raw_Data.valor.loc[i + 6]\n",
    "                      \n",
    "    i = i + 7\n",
    "    j = j + 1"
   ]
  },
  {
   "cell_type": "code",
   "execution_count": 18,
   "id": "0c8760be",
   "metadata": {},
   "outputs": [],
   "source": [
    "# Limpiaremos la Informacion\n",
    "datos_df_limpio = datos_df.copy()"
   ]
  },
  {
   "cell_type": "code",
   "execution_count": 19,
   "id": "8ab9637e",
   "metadata": {},
   "outputs": [],
   "source": [
    "datos_df_limpio['Date']          = pd.to_datetime(datos_df_limpio['Date'].astype(str) , format= '%m/%d/%Y')\n",
    "datos_df_limpio['Price']         = datos_df_limpio['Price'].str.replace(',','').astype('float')\n",
    "datos_df_limpio['Open']          = datos_df_limpio['Open'].str.replace(',','').astype('float')\n",
    "datos_df_limpio['High']          = datos_df_limpio['High'].str.replace(',','').astype('float')\n",
    "datos_df_limpio['Low']           = datos_df_limpio['Low'].str.replace(',','').astype('float')\n",
    "datos_df_limpio['ChangePercent'] = datos_df_limpio['ChangePercent'].str.replace('%','').astype('float')"
   ]
  },
  {
   "cell_type": "code",
   "execution_count": 20,
   "id": "2665ed03",
   "metadata": {},
   "outputs": [
    {
     "data": {
      "text/html": [
       "<div>\n",
       "<style scoped>\n",
       "    .dataframe tbody tr th:only-of-type {\n",
       "        vertical-align: middle;\n",
       "    }\n",
       "\n",
       "    .dataframe tbody tr th {\n",
       "        vertical-align: top;\n",
       "    }\n",
       "\n",
       "    .dataframe thead th {\n",
       "        text-align: right;\n",
       "    }\n",
       "</style>\n",
       "<table border=\"1\" class=\"dataframe\">\n",
       "  <thead>\n",
       "    <tr style=\"text-align: right;\">\n",
       "      <th></th>\n",
       "      <th>Date</th>\n",
       "      <th>Price</th>\n",
       "      <th>Open</th>\n",
       "      <th>High</th>\n",
       "      <th>Low</th>\n",
       "      <th>Vol</th>\n",
       "      <th>ChangePercent</th>\n",
       "    </tr>\n",
       "  </thead>\n",
       "  <tbody>\n",
       "    <tr>\n",
       "      <th>0</th>\n",
       "      <td>2022-09-02</td>\n",
       "      <td>2398.9</td>\n",
       "      <td>2223.2</td>\n",
       "      <td>2398.9</td>\n",
       "      <td>2200.2</td>\n",
       "      <td>5.84M</td>\n",
       "      <td>9.04</td>\n",
       "    </tr>\n",
       "    <tr>\n",
       "      <th>1</th>\n",
       "      <td>2022-09-01</td>\n",
       "      <td>2200.0</td>\n",
       "      <td>2110.0</td>\n",
       "      <td>2200.0</td>\n",
       "      <td>2055.1</td>\n",
       "      <td>5.79M</td>\n",
       "      <td>4.17</td>\n",
       "    </tr>\n",
       "    <tr>\n",
       "      <th>2</th>\n",
       "      <td>2022-08-31</td>\n",
       "      <td>2112.0</td>\n",
       "      <td>2169.9</td>\n",
       "      <td>2220.0</td>\n",
       "      <td>2100.0</td>\n",
       "      <td>9.14M</td>\n",
       "      <td>-4.00</td>\n",
       "    </tr>\n",
       "    <tr>\n",
       "      <th>3</th>\n",
       "      <td>2022-08-30</td>\n",
       "      <td>2200.0</td>\n",
       "      <td>2170.0</td>\n",
       "      <td>2219.8</td>\n",
       "      <td>2140.0</td>\n",
       "      <td>4.36M</td>\n",
       "      <td>1.85</td>\n",
       "    </tr>\n",
       "    <tr>\n",
       "      <th>4</th>\n",
       "      <td>2022-08-29</td>\n",
       "      <td>2160.0</td>\n",
       "      <td>2120.0</td>\n",
       "      <td>2169.0</td>\n",
       "      <td>2120.0</td>\n",
       "      <td>6.91M</td>\n",
       "      <td>1.81</td>\n",
       "    </tr>\n",
       "    <tr>\n",
       "      <th>...</th>\n",
       "      <td>...</td>\n",
       "      <td>...</td>\n",
       "      <td>...</td>\n",
       "      <td>...</td>\n",
       "      <td>...</td>\n",
       "      <td>...</td>\n",
       "      <td>...</td>\n",
       "    </tr>\n",
       "    <tr>\n",
       "      <th>167</th>\n",
       "      <td>2022-01-07</td>\n",
       "      <td>2500.0</td>\n",
       "      <td>2550.0</td>\n",
       "      <td>2571.0</td>\n",
       "      <td>2465.0</td>\n",
       "      <td>4.97M</td>\n",
       "      <td>-1.92</td>\n",
       "    </tr>\n",
       "    <tr>\n",
       "      <th>168</th>\n",
       "      <td>2022-01-06</td>\n",
       "      <td>2549.0</td>\n",
       "      <td>2535.0</td>\n",
       "      <td>2574.0</td>\n",
       "      <td>2519.9</td>\n",
       "      <td>2.47M</td>\n",
       "      <td>0.55</td>\n",
       "    </tr>\n",
       "    <tr>\n",
       "      <th>169</th>\n",
       "      <td>2022-01-05</td>\n",
       "      <td>2535.0</td>\n",
       "      <td>2575.9</td>\n",
       "      <td>2575.9</td>\n",
       "      <td>2509.9</td>\n",
       "      <td>1.42M</td>\n",
       "      <td>-0.55</td>\n",
       "    </tr>\n",
       "    <tr>\n",
       "      <th>170</th>\n",
       "      <td>2022-01-04</td>\n",
       "      <td>2549.0</td>\n",
       "      <td>2651.0</td>\n",
       "      <td>2651.0</td>\n",
       "      <td>2509.0</td>\n",
       "      <td>1.72M</td>\n",
       "      <td>-3.81</td>\n",
       "    </tr>\n",
       "    <tr>\n",
       "      <th>171</th>\n",
       "      <td>2022-01-03</td>\n",
       "      <td>2650.0</td>\n",
       "      <td>2774.7</td>\n",
       "      <td>2774.8</td>\n",
       "      <td>2650.0</td>\n",
       "      <td>1.39M</td>\n",
       "      <td>-4.64</td>\n",
       "    </tr>\n",
       "  </tbody>\n",
       "</table>\n",
       "<p>172 rows × 7 columns</p>\n",
       "</div>"
      ],
      "text/plain": [
       "          Date   Price    Open    High     Low    Vol  ChangePercent\n",
       "0   2022-09-02  2398.9  2223.2  2398.9  2200.2  5.84M           9.04\n",
       "1   2022-09-01  2200.0  2110.0  2200.0  2055.1  5.79M           4.17\n",
       "2   2022-08-31  2112.0  2169.9  2220.0  2100.0  9.14M          -4.00\n",
       "3   2022-08-30  2200.0  2170.0  2219.8  2140.0  4.36M           1.85\n",
       "4   2022-08-29  2160.0  2120.0  2169.0  2120.0  6.91M           1.81\n",
       "..         ...     ...     ...     ...     ...    ...            ...\n",
       "167 2022-01-07  2500.0  2550.0  2571.0  2465.0  4.97M          -1.92\n",
       "168 2022-01-06  2549.0  2535.0  2574.0  2519.9  2.47M           0.55\n",
       "169 2022-01-05  2535.0  2575.9  2575.9  2509.9  1.42M          -0.55\n",
       "170 2022-01-04  2549.0  2651.0  2651.0  2509.0  1.72M          -3.81\n",
       "171 2022-01-03  2650.0  2774.7  2774.8  2650.0  1.39M          -4.64\n",
       "\n",
       "[172 rows x 7 columns]"
      ]
     },
     "execution_count": 20,
     "metadata": {},
     "output_type": "execute_result"
    }
   ],
   "source": [
    "datos_df_limpio"
   ]
  },
  {
   "cell_type": "code",
   "execution_count": 21,
   "id": "f09c493f",
   "metadata": {},
   "outputs": [],
   "source": [
    "import openpyxl\n",
    "# Exportamos Resultado -- Cambiar Ruta a ruta del proyecto\n",
    "datos_df_limpio.to_excel('Falabella.xlsx', index=False)"
   ]
  },
  {
   "cell_type": "code",
   "execution_count": 22,
   "id": "6957ad9d",
   "metadata": {},
   "outputs": [],
   "source": [
    "# Limpiamos por espacio\n",
    "del Raw_Data\n",
    "del datos_df\n",
    "del datos_df_limpio"
   ]
  },
  {
   "cell_type": "code",
   "execution_count": null,
   "id": "2fb1d82a",
   "metadata": {},
   "outputs": [],
   "source": []
  }
 ],
 "metadata": {
  "kernelspec": {
   "display_name": "Python 3 (ipykernel)",
   "language": "python",
   "name": "python3"
  },
  "language_info": {
   "codemirror_mode": {
    "name": "ipython",
    "version": 3
   },
   "file_extension": ".py",
   "mimetype": "text/x-python",
   "name": "python",
   "nbconvert_exporter": "python",
   "pygments_lexer": "ipython3",
   "version": "3.9.12"
  },
  "toc": {
   "base_numbering": 1,
   "nav_menu": {},
   "number_sections": true,
   "sideBar": true,
   "skip_h1_title": false,
   "title_cell": "Table of Contents",
   "title_sidebar": "Contents",
   "toc_cell": false,
   "toc_position": {},
   "toc_section_display": true,
   "toc_window_display": false
  }
 },
 "nbformat": 4,
 "nbformat_minor": 5
}
